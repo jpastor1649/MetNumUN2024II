{
  "nbformat": 4,
  "nbformat_minor": 0,
  "metadata": {
    "colab": {
      "provenance": [],
      "include_colab_link": true
    },
    "kernelspec": {
      "name": "python3",
      "display_name": "Python 3"
    }
  },
  "cells": [
    {
      "cell_type": "markdown",
      "metadata": {
        "id": "view-in-github",
        "colab_type": "text"
      },
      "source": [
        "<a href=\"https://colab.research.google.com/github/jpastor1649/MetNumUN2024II/blob/main/Lab3/jpastorArithmeticSeriesGeometricSeriesPowerSums.ipynb\" target=\"_parent\"><img src=\"https://colab.research.google.com/assets/colab-badge.svg\" alt=\"Open In Colab\"/></a>"
      ]
    },
    {
      "cell_type": "markdown",
      "source": [
        "# Name: John Alejandro Pastor Sandoval\n",
        "# Number in the list : 36\n",
        "# Last digit of the number in the list: 6"
      ],
      "metadata": {
        "id": "xbAWD-q6yn-x"
      }
    },
    {
      "cell_type": "markdown",
      "metadata": {
        "id": "r4rXWI4gCN5B"
      },
      "source": [
        "# Arithmetic Series\n",
        "\n",
        "## Modified from Arithmetic Series -  [Wolfram MathWorld](https://mathworld.wolfram.com/ArithmeticSeries.html) - [wikipedia](https://en.wikipedia.org/wiki/Arithmetic_progression)\n",
        "\n",
        "\n",
        "An arithmetic sequence $\\{a_k\\}$ for $k=1, 2, ..., $ in which each term is computed from the previous one by adding (or subtracting) a constant $d$.\n",
        "\n",
        "\\begin{align*}\n",
        "a_1 & \\\\\n",
        "a_2 &\\ \\ =\\ \\ a_1 + d  \\\\\n",
        "a_3 &\\ \\ =\\ \\ a_2 + d \\ \\ =\\ \\ a_1 + 2d   \\\\\n",
        "a_4 &\\ \\ =\\ \\ a_3 + d \\ \\ =\\ \\ a_2 + 2d \\ \\ =\\ \\ a_1 + 3d  \\\\\n",
        "\\vdots\\\\\n",
        "a_k &\\ \\ =\\ \\ a_{(k-1)}+d \\ =\\  a_{(k-2)}+2d \\ =\\  \\ldots \\ =\\  \\ a_1+(k-1)d\n",
        "\\end{align*}\n",
        "\n",
        "Therefore, for $k>=1$,\n",
        "\n",
        "$$ a_k = a_1 + (k-1)d$$\n",
        "\n",
        "With $a_1$ and $d$ given.\n",
        "\n",
        "<br />\n",
        "\n",
        "The sequence of the partial sum of the first $n$ terms of a sequence is called a series, in the case of an arithemetic sequence the series is called an arithmetic series.\n",
        "\n",
        "If  $a_1= 1$ and $d=1$ we have, the simplest arithmnetic sequence,  the natural numbers sequence $\\{a_k = k \\}$ for  $k=1, 2, ..., $  i.e. the seuqnece\n",
        "$$1, 2, ...,$$\n",
        "The  corresponding series is\n",
        "$$\n",
        "S_n = 1 + 2+ \\ldots + (n-1)+ n = \\sum_{k=1}^n k\n",
        "$$\n",
        "can be calculated as a function of $n$.\n",
        "\n",
        "Assume that we allign one $S_{n-1}$ with a second  $S_{n-1}$ that have the terms adden reverse order and you add term to term, we have\n",
        "\\begin{array}{llclclclclc}\n",
        "  S_{n-1} &=& 1 &+& 2 &+& \\ldots &+& (n-2) &+& (n-1) \\\\\n",
        "  S_{n-1} &=& (n-1)  &+& (n-2)  &+& \\ldots   &+& 2   &+& 1 \\\\\n",
        "   \\hline \\\\\n",
        "   2S_{n-1} &=& n  &+& n  &+& \\ldots   &+& n   &+& n \\\\\n",
        "\\end{array}\n",
        "so\n",
        "$$  2S_{n-1} = (n-1)n $$\n",
        "then\n",
        "$$  S_{n-1} = \\frac{1}{2} (n-1)n$$\n",
        "therefore\n",
        "$$  S_{n} = \\frac{1}{2} n(n+1)$$\n",
        "\n",
        "\n",
        "\\begin{align*}\n",
        "S_n &= \\sum_{k=1}^n a_k\t\\\\\n",
        "    &= \\sum_{k=1}^n[a_1+(k-1)d]\t\t\\\\\n",
        "    &= na_1 + d \\sum_{k=1}^n(k-1)\t\\\\\n",
        "    &= na_1 + d \\sum_{k=0}^{n-1} k\t\\\\\n",
        "    &= na_1 + d \\sum_{k=1}^{n-1} k\t\\\\\n",
        "    &= na_1 +  \\frac{1}{2} d(n-1)n\\\\\n",
        "\\end{align*}\n",
        "so\n",
        "$$ S_n =  \\frac{1}{2} n[2 a_1 +d(n-1)].$$\n",
        "\n",
        "Note, however, that\n",
        "$$a_1+a_n=a_1+[a_1+d(n-1)]=2a_1+d(n-1),$$\n",
        "so\n",
        "$$S_n = \\frac{1}{2}n(a_1+a_n),$$\n",
        "\n",
        "\n",
        "or $n$ times the arithmetic mean of the first and last terms! This is the trick Gauss used as a schoolboy to solve the problem of summing the integers from $1$ to $100$ given as busy-work by his teacher. While his classmates toiled away doing the addition longhand, Gauss wrote a single number, the correct answer\n",
        "\n",
        "$$\\frac{1}{2}(100)(1+100)=50·101=5050$$\n",
        "on his slate (Burton 1989, pp. 80-81; Hoffman 1998, p. 207). When the answers were examined, Gauss's proved to be the only correct one.\n",
        "\n",
        "<br />\n",
        "\n",
        "If  the sequence starts at index $0$, $\\{a_k\\}$ for $ k=0, 1, 2, ..., $ we have\n",
        "\n",
        "\\begin{align*}\n",
        "a_0 & \\\\\n",
        "a_1 &\\ \\ =\\ \\ a_0 + d  \\\\\n",
        "a_2 &\\ \\ =\\ \\ a_1 + d \\ \\ =\\ \\ a_0 + 2d   \\\\\n",
        "a_3 &\\ \\ =\\ \\ a_2 + d \\ \\ =\\ \\ a_1 + 2d \\ \\ =\\ \\ a_0 + 3d  \\\\\n",
        "\\vdots\\\\\n",
        "a_k &\\ \\ =\\ \\ a_{(k-1)}+d \\ =\\  a_{(k-2)}+2d \\ =\\  \\ldots \\ = \\  \\ a_1+(k-1)d \\ \\ =\\ \\ a_0+kd\n",
        "\\end{align*}\n",
        "\n",
        "<br />\n",
        "for given   $a_0$ and $d$.\n",
        "\n",
        "In this case the sum of the terms between $0$ and $n$ of  the arithmetic sequence  is then given by\n",
        "\\begin{align*}\n",
        "S_n &= \\sum_{k=0}^{n} a_k\t\\\\\n",
        "    &= \\sum_{k=0}^{n}[a_0+kd]\t\t\\\\\n",
        "    &= (n+1) a_0 + d \\sum_{k=0}^{n} k\t\\\\\n",
        "    &= (n+1) a_0 + d \\sum_{k=1}^{} k\t\\\\\n",
        "    &=(n+1) a_0+  \\frac{1}{2} dn(n+1) \\\\\n",
        "\\end{align*}\n",
        "so\n",
        "$$ S_n =  \\frac{1}{2} (n+1)[2 a_0 + dn].$$\n",
        "<br />\n",
        "$$ S_n =  \\frac{1}{2} (n+1)[a_0+ a_n].$$\n",
        "\n",
        "\n"
      ]
    },
    {
      "cell_type": "markdown",
      "metadata": {
        "id": "GfBh-QHRcods"
      },
      "source": [
        "### Code\n",
        "####  The simplest arithmetic sequence and series\n",
        "\n",
        "The simplest arithmnetic sequence is\n",
        "\n",
        "\n",
        "$$a_n = 1, 2, ...,$$"
      ]
    },
    {
      "cell_type": "markdown",
      "metadata": {
        "id": "n36eWqEXiktl"
      },
      "source": [
        "The following code plots the first $n = 15$ terms of the simplest arithmnetic sequence\n",
        "$$\\{a_n = n\\} \\text{ for } n =1,2,\\ldots  $$\n",
        "i.e\n",
        "$$\\{a_n = n\\} =1,2,\\ldots $$\n",
        "adn the corresponding terms of the simplest arithmnetic series\n",
        "$$  S_n = 1 + 2+ \\ldots + (n-1)+ n = \\sum_{k=1}^n k=  \\frac{1}{2} n(n+1)$$\n"
      ]
    },
    {
      "cell_type": "markdown",
      "metadata": {
        "id": "_VyGiunIZknK"
      },
      "source": [
        "Plot"
      ]
    },
    {
      "cell_type": "code",
      "metadata": {
        "colab": {
          "base_uri": "https://localhost:8080/",
          "height": 448
        },
        "id": "gx3Q4uo-ONCi",
        "outputId": "669c85c0-ae79-4547-bb10-49edf8372848"
      },
      "source": [
        "import matplotlib.pyplot as plt\n",
        "import numpy as np\n",
        "\n",
        "n = 15\n",
        "S_n = 0\n",
        "Serie_S_n=[]\n",
        "Sequence_a_n =[]\n",
        "for i in range(1,n+1):\n",
        "  S_n = S_n + i\n",
        "  Serie_S_n.append(S_n)\n",
        "  Sequence_a_n.append(i)\n",
        "\n",
        "\n",
        "plt.plot(np.arange(1, n+1),Serie_S_n, color='black',label='Serie_S_n')\n",
        "plt.plot(np.arange(1, n+1), Sequence_a_n, color='red',label='Sequence_a_n')\n",
        "plt.xticks(np.arange(1, n+1))\n",
        "plt.legend()\n",
        "\n",
        "\n"
      ],
      "execution_count": null,
      "outputs": [
        {
          "output_type": "execute_result",
          "data": {
            "text/plain": [
              "<matplotlib.legend.Legend at 0x7d405a7d8e50>"
            ]
          },
          "metadata": {},
          "execution_count": 1
        },
        {
          "output_type": "display_data",
          "data": {
            "text/plain": [
              "<Figure size 640x480 with 1 Axes>"
            ],
            "image/png": "[encoded data removed]"
          },
          "metadata": {}
        }
      ]
    },
    {
      "cell_type": "code",
      "metadata": {
        "colab": {
          "base_uri": "https://localhost:8080/"
        },
        "id": "o2es6b4cysQk",
        "outputId": "68dbb549-216d-4f37-e914-dcd48e20d3ca"
      },
      "source": [
        "Sequence_a_n"
      ],
      "execution_count": null,
      "outputs": [
        {
          "output_type": "execute_result",
          "data": {
            "text/plain": [
              "[1, 2, 3, 4, 5, 6, 7, 8, 9, 10, 11, 12, 13, 14, 15]"
            ]
          },
          "metadata": {},
          "execution_count": 2
        }
      ]
    },
    {
      "cell_type": "code",
      "metadata": {
        "colab": {
          "base_uri": "https://localhost:8080/"
        },
        "id": "T2VeBOBZ0ibg",
        "outputId": "71972221-3af2-47e0-eed3-5eac5166a543"
      },
      "source": [
        "Serie_S_n"
      ],
      "execution_count": null,
      "outputs": [
        {
          "output_type": "execute_result",
          "data": {
            "text/plain": [
              "[1, 3, 6, 10, 15, 21, 28, 36, 45, 55, 66, 78, 91, 105, 120]"
            ]
          },
          "metadata": {},
          "execution_count": 3
        }
      ]
    },
    {
      "cell_type": "markdown",
      "metadata": {
        "id": "0ybfJdHxZGvW"
      },
      "source": [
        "The following code computes the  $n=10000000$  term of the airthmetic series\n",
        "$$  S_n = 1 + 2+ \\ldots + (n-1)+ n = \\sum_{k=1}^n =  \\frac{1}{2} n(n+1)$$"
      ]
    },
    {
      "cell_type": "code",
      "metadata": {
        "colab": {
          "base_uri": "https://localhost:8080/"
        },
        "id": "99xYHDQycnol",
        "outputId": "5bb4ce33-d9a6-4e99-a321-70324f61e0aa"
      },
      "source": [
        "n = 10000000\n",
        "S_n = 0\n",
        "for i in range(1,n+1):  # range(n+1) goes form 1 to n\n",
        "  S_n = S_n + i\n",
        "print(S_n)"
      ],
      "execution_count": null,
      "outputs": [
        {
          "output_type": "stream",
          "name": "stdout",
          "text": [
            "50000005000000\n"
          ]
        }
      ]
    },
    {
      "cell_type": "code",
      "metadata": {
        "colab": {
          "base_uri": "https://localhost:8080/"
        },
        "id": "RGCSuDGHeFwH",
        "outputId": "92f92334-4253-4fc2-cb69-a5a94ace7202"
      },
      "source": [
        "(1/2)*n*(n+1)"
      ],
      "execution_count": null,
      "outputs": [
        {
          "output_type": "execute_result",
          "data": {
            "text/plain": [
              "50000005000000.0"
            ]
          },
          "metadata": {},
          "execution_count": 5
        }
      ]
    },
    {
      "cell_type": "markdown",
      "metadata": {
        "id": "bg8zxAhcecpk"
      },
      "source": [
        "The following code computes the $n=10000000$ term of the airthmetic series\n",
        "$$ S_n  = \\sum_{k=1}^n a_k$$\n",
        "\n",
        "<br />\n",
        "for the airthmetic sequence $a_k = 10 + 3 (k-1) $ for $k=1,2,\\ldots$\n",
        "\n",
        "<br />\n",
        "$$ 10,13,16,19,21,\\ldots$$\n"
      ]
    },
    {
      "cell_type": "markdown",
      "metadata": {
        "id": "hg3ixQ3bZiVh"
      },
      "source": [
        "Plot"
      ]
    },
    {
      "cell_type": "code",
      "metadata": {
        "colab": {
          "base_uri": "https://localhost:8080/"
        },
        "id": "w8FP1XqSgnie",
        "outputId": "eeb4e33a-875a-4158-a435-c640a89f9364"
      },
      "source": [
        "n = 10000000\n",
        "a = 10\n",
        "d = 3 #\n",
        "S_n = 0\n",
        "for i in range(1,n+1):  # range(n+19 goes form 1 to n\n",
        "  a_n = a + d * (i-1)\n",
        "  S_n = S_n + a_n\n",
        "print(S_n)"
      ],
      "execution_count": null,
      "outputs": [
        {
          "output_type": "stream",
          "name": "stdout",
          "text": [
            "150000085000000\n"
          ]
        }
      ]
    },
    {
      "cell_type": "code",
      "metadata": {
        "colab": {
          "base_uri": "https://localhost:8080/"
        },
        "id": "g_38RfB_hgg2",
        "outputId": "d1d8b517-a6c8-4a5f-9510-fe4eb9ed93cd"
      },
      "source": [
        "n*(2*a +d*(n-1))/2"
      ],
      "execution_count": null,
      "outputs": [
        {
          "output_type": "execute_result",
          "data": {
            "text/plain": [
              "150000085000000.0"
            ]
          },
          "metadata": {},
          "execution_count": 7
        }
      ]
    },
    {
      "cell_type": "code",
      "metadata": {
        "colab": {
          "base_uri": "https://localhost:8080/"
        },
        "id": "zS3qb_xE1u58",
        "outputId": "53887a1f-fe24-4723-b1ab-6882f935c784"
      },
      "source": [
        "n*(a +a_n)/2"
      ],
      "execution_count": null,
      "outputs": [
        {
          "output_type": "execute_result",
          "data": {
            "text/plain": [
              "150000085000000.0"
            ]
          },
          "metadata": {},
          "execution_count": 8
        }
      ]
    },
    {
      "cell_type": "code",
      "metadata": {
        "colab": {
          "base_uri": "https://localhost:8080/",
          "height": 450
        },
        "id": "7qesKez70zub",
        "outputId": "1f4e5980-bddf-49d6-a335-82c7ca572994"
      },
      "source": [
        "import matplotlib.pyplot as plt\n",
        "import numpy as np\n",
        "\n",
        "n = 20\n",
        "a = 10\n",
        "d = 3\n",
        "S_n = 0\n",
        "Serie_S_n=[]\n",
        "Sequence_a_n =[]\n",
        "for i in range(1,n+1):  # range(n+1) goes form 1 to n\n",
        "  a_n = a + d * (i-1)\n",
        "  S_n = S_n + a_n\n",
        "  Serie_S_n.append(S_n)\n",
        "  Sequence_a_n.append(a_n)\n",
        "\n",
        "plt.plot(np.arange(1, n+1),Serie_S_n, color='black',label='Serie_S_n')\n",
        "plt.plot(np.arange(1, n+1),Sequence_a_n, color='red',label='Sequence_a_n')\n",
        "plt.xticks(np.arange(1, n+1))\n",
        "plt.legend()"
      ],
      "execution_count": null,
      "outputs": [
        {
          "output_type": "execute_result",
          "data": {
            "text/plain": [
              "<matplotlib.legend.Legend at 0x7d40596a6ad0>"
            ]
          },
          "metadata": {},
          "execution_count": 9
        },
        {
          "output_type": "display_data",
          "data": {
            "text/plain": [
              "<Figure size 640x480 with 1 Axes>"
            ],
            "image/png": "[encoded data removed]"
          },
          "metadata": {}
        }
      ]
    },
    {
      "cell_type": "markdown",
      "metadata": {
        "id": "r9qzONSlZq2q"
      },
      "source": [
        "## Your own example of arithmetic series $a_1$ is your list number and $d$ as the last digit of the your list number\n",
        "\n"
      ]
    },
    {
      "cell_type": "code",
      "metadata": {
        "id": "SrJ_dPxS0pwP",
        "colab": {
          "base_uri": "https://localhost:8080/",
          "height": 448
        },
        "outputId": "da4712fe-2360-4779-f55f-d9f39d9a364e"
      },
      "source": [
        "import matplotlib.pyplot as plt\n",
        "\n",
        "n = 20\n",
        "a = 36\n",
        "d = a % 10\n",
        "S_n = 0\n",
        "Serie_S_n=[]\n",
        "Sequence_a_n =[]\n",
        "for i in range(1,n+1):  # range(n+19 goes form 1 to n\n",
        "  a_n = a + d * (i-1)\n",
        "  S_n = S_n + a_n\n",
        "  Serie_S_n.append(S_n)\n",
        "  Sequence_a_n.append(a_n)\n",
        "\n",
        "plt.plot(Serie_S_n, color='black',label='Serie_S_n')\n",
        "plt.plot(Sequence_a_n, color='red',label='Sequence_a_n')\n",
        "plt.legend()"
      ],
      "execution_count": 7,
      "outputs": [
        {
          "output_type": "execute_result",
          "data": {
            "text/plain": [
              "<matplotlib.legend.Legend at 0x7e44a47c9210>"
            ]
          },
          "metadata": {},
          "execution_count": 7
        },
        {
          "output_type": "display_data",
          "data": {
            "text/plain": [
              "<Figure size 640x480 with 1 Axes>"
            ],
            "image/png": "[encoded data removed]"
          },
          "metadata": {}
        }
      ]
    },
    {
      "cell_type": "code",
      "source": [
        "print(Sequence_a_n)"
      ],
      "metadata": {
        "id": "oYXj26wAD_y7",
        "outputId": "3a821555-c9ef-4c8e-ee15-f1e88c5751fc",
        "colab": {
          "base_uri": "https://localhost:8080/"
        }
      },
      "execution_count": 8,
      "outputs": [
        {
          "output_type": "stream",
          "name": "stdout",
          "text": [
            "[36, 42, 48, 54, 60, 66, 72, 78, 84, 90, 96, 102, 108, 114, 120, 126, 132, 138, 144, 150]\n"
          ]
        }
      ]
    },
    {
      "cell_type": "code",
      "source": [
        "print(Serie_S_n)"
      ],
      "metadata": {
        "id": "fRayR-U_EHCt",
        "outputId": "6723834f-498b-4273-e8db-6d056aed3ccd",
        "colab": {
          "base_uri": "https://localhost:8080/"
        }
      },
      "execution_count": 9,
      "outputs": [
        {
          "output_type": "stream",
          "name": "stdout",
          "text": [
            "[36, 78, 126, 180, 240, 306, 378, 456, 540, 630, 726, 828, 936, 1050, 1170, 1296, 1428, 1566, 1710, 1860]\n"
          ]
        }
      ]
    },
    {
      "cell_type": "code",
      "source": [
        "print(S_n) # Suma"
      ],
      "metadata": {
        "id": "_OiQtGHEEJSu",
        "outputId": "0c5814b6-281b-49ef-a8c4-9aa24a575652",
        "colab": {
          "base_uri": "https://localhost:8080/"
        }
      },
      "execution_count": 10,
      "outputs": [
        {
          "output_type": "stream",
          "name": "stdout",
          "text": [
            "1860\n"
          ]
        }
      ]
    },
    {
      "cell_type": "code",
      "source": [
        "print(n*(a +a_n)/2) # Ecuación 1"
      ],
      "metadata": {
        "id": "Ash7Oy87EM_M",
        "outputId": "4d3049d3-0ee1-4493-c7ab-2717bce9f984",
        "colab": {
          "base_uri": "https://localhost:8080/"
        }
      },
      "execution_count": 11,
      "outputs": [
        {
          "output_type": "stream",
          "name": "stdout",
          "text": [
            "1860.0\n"
          ]
        }
      ]
    },
    {
      "cell_type": "code",
      "source": [
        "print(n*(2*a +d*(n-1))/2) # Ecuación 2"
      ],
      "metadata": {
        "id": "BQOu2KgfEPDF",
        "outputId": "54d0c3b2-c79d-49ac-b402-7b152639fae6",
        "colab": {
          "base_uri": "https://localhost:8080/"
        }
      },
      "execution_count": 12,
      "outputs": [
        {
          "output_type": "stream",
          "name": "stdout",
          "text": [
            "1860.0\n"
          ]
        }
      ]
    },
    {
      "cell_type": "markdown",
      "metadata": {
        "id": "AKWJ1F7hac8T"
      },
      "source": [
        "# Geometric Series\n",
        "\n",
        "## Modified from Geometric Series -  [Wolfram MathWorld](https://mathworld.wolfram.com/GeometricSeries.html) - [wikipedia](https://en.wikipedia.org/wiki/Geometric_series)\n"
      ]
    },
    {
      "cell_type": "markdown",
      "metadata": {
        "id": "W5zx_-nR81GI"
      },
      "source": [
        "An geometric series is the sum of a sequence $\\{a_k\\}$ for $k=1, 2, ..., $ in which each term is computed from the previous  by multipliying constant $r$ and starts with 1.\n",
        "\n",
        "\\begin{align*}\n",
        "a_0 &\\ \\ =\\ \\ r^0 \\ \\ =\\ \\ 1\\\\\n",
        "a_1 &\\ \\ =\\ \\ a_0 *  r \\ \\ =\\ \\  r\\\\\n",
        "a_2 &\\ \\ =\\ \\ a_1 * r\\ \\ =\\ \\ a_0 * r^2  \\ \\ =\\ \\ r^2 \\\\\n",
        "a_3 &\\ \\ =\\ \\ a_2 * r \\ \\ =\\ \\ a_0 * r^3 \\ \\ =\\ \\  r^3  \\\\\n",
        "a_4 &\\ \\ =\\ \\ a_3 * r\\ \\  =\\ \\ a_0 * r^4 \\ \\  =\\ \\ r^4  \\\\\n",
        "\\vdots\\\\\n",
        "a_k &\\ \\ =\\ \\ a_{(k-1)}* r \\ =\\   a_0 * r^k \\ \\  =\\ \\  r^k\n",
        "\\end{align*}\n",
        "\n",
        "The sum of the first $n$ terms  of  the geometric sequence (called an geometric serie)  is then given by\n",
        "$$\n",
        "\\begin{array}{ll}\n",
        "S_n &=  1 + r + r^2 + \\cdots + r^{n-1} +r^n \\\\\n",
        " &=  (1 + r + r^2 + \\cdots + r^{n-1} ) +r^n \\\\\n",
        " &= S_{n-1}  +r^n\n",
        "\\end{array}\n",
        "$$\n",
        "\n",
        "$$\n",
        "\\begin{array}{ll}\n",
        "S_n &=  1 + r + r^2 + \\cdots + r^{n-1} +r^n \\\\\n",
        " &=  1 + (r + r^2 + \\cdots + r^{n-1}  +r^n)  \\\\\n",
        " &=   1 + r (1 +  r  + r^2 + \\cdots + r^{n-1} )  \\\\\n",
        "  &=   1 + r   S_{n-1}\n",
        "\\end{array}\n",
        "$$\n",
        "\n",
        "Then\n",
        "$$\n",
        " S_{n-1}  +r^n =   1 + r   S_{n-1}\n",
        "$$\n",
        "\n",
        "Therefore\n",
        "$$\n",
        " S_{n-1} (1 -r)   +r^n =   1 - r^n\n",
        "$$\n",
        "\n",
        "$$\n",
        " S_{n-1}   =   \\frac{1 - r^n }{1 -r}\n",
        "$$\n",
        "\n",
        "$$\n",
        " S_{n}   =   \\frac{1 - r^{n+1} }{1 -r}  = \\frac{ r^{n+1} - 1}{r -1}\n",
        "$$\n"
      ]
    },
    {
      "cell_type": "markdown",
      "metadata": {
        "id": "CDUYfT8k8crr"
      },
      "source": [
        "## Nodes in Complete Binary Tree with $L=0,1,2,\\cdots , L-1$ levels\n",
        "\n",
        "![](https://raw.githubusercontent.com/gjhernandezp/algorithms/master/Lab7/ComBinTree.png)\n",
        "\n",
        "In a complete binary tree you have in ecah level $k =0,1,2,\\cdots $  $ 2^k $\n",
        "\n",
        "$$\n",
        "\\begin{array}{ll}\n",
        "\\text {Level } 0 \\rightarrow 2^0 = 1 \\text { node (root)} \\\\\n",
        "\\text {Level } 1 \\rightarrow 2^1 = 2 \\text { nodes} \\\\\n",
        "\\text {Level } 2 \\rightarrow 2^2 = 4 \\text { nodes} \\\\\n",
        "\\text {Level } 3 \\rightarrow 2^3 = 8 \\text { nodes} \\\\\n",
        "\\vdots\\\\\n",
        "\\text {Level } k \\rightarrow 2^k  \\text { nodes} \\\\\n",
        "\\end{array}\n",
        "$$\n",
        "\n",
        "nodes, with $l = 0,1,2, ... $ the level\n",
        "\n",
        "Total number of the complte tree with $L=0,1,2,\\cdots , L-1$ levels\n",
        "\n",
        "$$\n",
        "2^0 + 2^1 + 2^2 + \\cdots +2^{L-1}  = 1 + 2 + 4 + \\cdots +2^{L-1} = \\sum_{k=0}^{L-1} 2^k = \\frac{ 2^{L} - 1}{2 -1} = 2^{L} - 1\n",
        "$$"
      ]
    },
    {
      "cell_type": "markdown",
      "source": [
        "## Add the a geometric series with $r =2$ up to 10** 6 and verify with the formula.  "
      ],
      "metadata": {
        "id": "TWqL3ugpEpIN"
      }
    },
    {
      "cell_type": "code",
      "source": [
        "sequence_sn = []\n",
        "serie_an = []\n",
        "n = 20\n",
        "r = 2\n",
        "S_n = 0\n",
        "for k in range(0, n+1):\n",
        "  a_k = r**k\n",
        "  S_n += a_k\n",
        "  sequence_sn.append(S_n)\n",
        "  serie_an.append(a_k)\n",
        ""
      ],
      "metadata": {
        "id": "e3DmyWfVEtwV"
      },
      "execution_count": 14,
      "outputs": []
    },
    {
      "cell_type": "code",
      "source": [
        "print(f\"Código: {S_n}\")\n",
        "print(f\"Ecuación: {2**(n+1)-1}\")\n",
        "# Suma"
      ],
      "metadata": {
        "id": "DUntYdM9FFc8",
        "outputId": "256d8543-fa10-4294-d9d7-775f07480c96",
        "colab": {
          "base_uri": "https://localhost:8080/"
        }
      },
      "execution_count": 15,
      "outputs": [
        {
          "output_type": "stream",
          "name": "stdout",
          "text": [
            "Código: 2097151\n",
            "Ecuación: 2097151\n"
          ]
        }
      ]
    },
    {
      "cell_type": "markdown",
      "source": [
        "## Plot and  print the first 20 terms and the partial sums."
      ],
      "metadata": {
        "id": "PXfwrckTEuZF"
      }
    },
    {
      "cell_type": "code",
      "source": [
        "plt.plot(sequence_sn, color='black',label='sequence_sn')\n",
        "plt.plot(serie_an, color='red',label='serie_an')\n",
        "plt.legend()"
      ],
      "metadata": {
        "id": "YWdK15t3E2kN",
        "outputId": "88d51747-b905-4d23-977c-9840cc4721b8",
        "colab": {
          "base_uri": "https://localhost:8080/",
          "height": 463
        }
      },
      "execution_count": 16,
      "outputs": [
        {
          "output_type": "execute_result",
          "data": {
            "text/plain": [
              "<matplotlib.legend.Legend at 0x7e44a4b501d0>"
            ]
          },
          "metadata": {},
          "execution_count": 16
        },
        {
          "output_type": "display_data",
          "data": {
            "text/plain": [
              "<Figure size 640x480 with 1 Axes>"
            ],
            "image/png": "[encoded data removed]"
          },
          "metadata": {}
        }
      ]
    },
    {
      "cell_type": "markdown",
      "metadata": {
        "id": "YiWlrhLZNMX9"
      },
      "source": [
        "## Your own examples of a geometric series with  $r =d+1$ with $d$  the last digit of the number in the list, add the series up to 10** 6 and verify with the formula.\n"
      ]
    },
    {
      "cell_type": "code",
      "metadata": {
        "id": "YvMkYU8UNOll"
      },
      "source": [
        "sequence_sn = []\n",
        "serie_an = []\n",
        "n = 20\n",
        "r = 6 + 1\n",
        "S_n = 0\n",
        "for k in range(0, n+1):\n",
        "  a_k = r**k\n",
        "  S_n += a_k\n",
        "  sequence_sn.append(S_n)\n",
        "  serie_an.append(a_k)"
      ],
      "execution_count": 20,
      "outputs": []
    },
    {
      "cell_type": "code",
      "source": [
        "print(f\"Código: {S_n}\")\n",
        "print(f\"Ecuación: {(r**(n+1)-1)/(r-1)}\")"
      ],
      "metadata": {
        "id": "-HP3BafuFVYc",
        "outputId": "470a1cb0-70be-4f47-d5bb-4625dfb1ec61",
        "colab": {
          "base_uri": "https://localhost:8080/"
        }
      },
      "execution_count": 18,
      "outputs": [
        {
          "output_type": "stream",
          "name": "stdout",
          "text": [
            "Código: 111111111111111111111\n",
            "Ecuación: 1.1111111111111111e+20\n"
          ]
        }
      ]
    },
    {
      "cell_type": "markdown",
      "source": [
        "##  Plot the first 20 terms and the partial sums."
      ],
      "metadata": {
        "id": "ZMYI3sNVEcfC"
      }
    },
    {
      "cell_type": "code",
      "source": [
        "plt.plot(sequence_sn, color='black',label='sequence_sn')\n",
        "plt.plot(serie_an, color='red',label='serie_an')\n",
        "plt.legend()"
      ],
      "metadata": {
        "id": "RC-2dFAxEYIt",
        "outputId": "ce9e5326-adaa-4f39-c2b7-d82854128b77",
        "colab": {
          "base_uri": "https://localhost:8080/",
          "height": 463
        }
      },
      "execution_count": 19,
      "outputs": [
        {
          "output_type": "execute_result",
          "data": {
            "text/plain": [
              "<matplotlib.legend.Legend at 0x7e44a41490d0>"
            ]
          },
          "metadata": {},
          "execution_count": 19
        },
        {
          "output_type": "display_data",
          "data": {
            "text/plain": [
              "<Figure size 640x480 with 1 Axes>"
            ],
            "image/png": "[encoded data removed]"
          },
          "metadata": {}
        }
      ]
    },
    {
      "cell_type": "markdown",
      "metadata": {
        "id": "Dd3RWDwJe2xD"
      },
      "source": [
        "## Zenon Arrow\n",
        "\n",
        "![](https://raw.githubusercontent.com/gjhernandezp/algorithms/master/Lab7/zeno-paradox-arrow.png)\n",
        "\n",
        "Achilles and the tortoise - https://en.wikipedia.org/wiki/Zeno%27s_paradoxes\n",
        "\n",
        "\n",
        "\n",
        "$$\n",
        "\\lim_{n\\rightarrow \\infty} \\left\\{\\left(\\frac{1}{2}\\right)^0 + \\left(\\frac{1}{2}\\right)^1 +\\left(\\frac{1}{2}\\right)^2 + \\cdots +\\left(\\frac{1}{2}\\right)^{n} \\right\\} = \\lim_{n\\rightarrow \\infty} \\left\\{ 1 +\\frac{1}{2} + \\frac{1}{4} + \\frac{1}{8} + \\cdots +\\frac{1}{2^{n}}\\right\\}  = \\lim_{n\\rightarrow \\infty} \\sum_{k=0}^{n} \\left(\\frac{1}{2}\\right)^k = \\lim_{n\\rightarrow \\infty} \\frac{ 1- \\left(\\frac{1}{2}\\right)^n  }{1 - \\left(\\frac{1}{2}\\right) } = \\frac{ 1}{1 - \\left(\\frac{1}{2}\\right)} = 2\n",
        "$$"
      ]
    },
    {
      "cell_type": "markdown",
      "metadata": {
        "id": "R-J4EekBNPkd"
      },
      "source": [
        "## Sum the  geometric with  $r=\\frac{1}{2}$ add the series up to 10**3 and verify with the formula.\n",
        "\n"
      ]
    },
    {
      "cell_type": "code",
      "metadata": {
        "id": "8xdBovY3NEW_"
      },
      "source": [
        "sequence_sn = []\n",
        "serie_an = []\n",
        "n = 60\n",
        "r = 1/2\n",
        "S_n = 0\n",
        "for k in range(0, n+1):\n",
        "  a_k = r**k\n",
        "  S_n += a_k\n",
        "  sequence_sn.append(S_n)\n",
        "  serie_an.append(a_k)\n",
        ""
      ],
      "execution_count": 32,
      "outputs": []
    },
    {
      "cell_type": "code",
      "source": [
        "print(f\"Código: {S_n}\")\n",
        "print(f\"Ecuación: {(r**(n+1)-1)/(r-1)}\")\n",
        ""
      ],
      "metadata": {
        "id": "3bjR3nkYFovN",
        "outputId": "0f9fcd0b-d68f-451a-d615-c60d541a0891",
        "colab": {
          "base_uri": "https://localhost:8080/"
        }
      },
      "execution_count": 33,
      "outputs": [
        {
          "output_type": "stream",
          "name": "stdout",
          "text": [
            "Código: 2.0\n",
            "Ecuación: 2.0\n"
          ]
        }
      ]
    },
    {
      "cell_type": "markdown",
      "source": [
        "## Plot and print the first 60 terms and the partial sums."
      ],
      "metadata": {
        "id": "5pp0GXjjFrgc"
      }
    },
    {
      "cell_type": "code",
      "source": [
        "plt.plot(sequence_sn, color='black',label='sequence_sn')\n",
        "plt.plot(serie_an, color='red',label='serie_an')\n",
        "plt.legend()"
      ],
      "metadata": {
        "id": "BNEY8PfmFyM1",
        "outputId": "e195a0c8-bffc-4b19-b997-28056495811b",
        "colab": {
          "base_uri": "https://localhost:8080/",
          "height": 448
        }
      },
      "execution_count": 23,
      "outputs": [
        {
          "output_type": "execute_result",
          "data": {
            "text/plain": [
              "<matplotlib.legend.Legend at 0x7e44a4b7a390>"
            ]
          },
          "metadata": {},
          "execution_count": 23
        },
        {
          "output_type": "display_data",
          "data": {
            "text/plain": [
              "<Figure size 640x480 with 1 Axes>"
            ],
            "image/png": "[encoded data removed]"
          },
          "metadata": {}
        }
      ]
    },
    {
      "cell_type": "markdown",
      "source": [
        "## Your own examples of a geometric series with $r=\\frac{1}{d+1}$  with $d$ add the series up to 10**3 and verify with the formula."
      ],
      "metadata": {
        "id": "y9RQsrrjFx2k"
      }
    },
    {
      "cell_type": "code",
      "source": [
        "sequence_sn = []\n",
        "serie_an = []\n",
        "n = 60\n",
        "r = 1/(6+1)\n",
        "S_n = 0\n",
        "for k in range(0, n+1):\n",
        "  a_k = r**k\n",
        "  S_n += a_k\n",
        "  sequence_sn.append(S_n)\n",
        "  serie_an.append(a_k)\n",
        ""
      ],
      "metadata": {
        "id": "CtWIsJxlGfGU"
      },
      "execution_count": 34,
      "outputs": []
    },
    {
      "cell_type": "code",
      "source": [
        "print(f\"Código: {S_n}\")\n",
        "print(f\"Fórmula: {(r**(n+1)-1)/(r-1)}\")"
      ],
      "metadata": {
        "id": "EFbKmFMPGe_E",
        "outputId": "190f437d-8e6b-455b-cdca-ab13c4790377",
        "colab": {
          "base_uri": "https://localhost:8080/"
        }
      },
      "execution_count": 35,
      "outputs": [
        {
          "output_type": "stream",
          "name": "stdout",
          "text": [
            "Código: 1.1666666666666665\n",
            "Fórmula: 1.1666666666666665\n"
          ]
        }
      ]
    },
    {
      "cell_type": "markdown",
      "source": [
        "## Plot and print the first 60 terms and the partial sums."
      ],
      "metadata": {
        "id": "sjX-Z7cwGhUt"
      }
    },
    {
      "cell_type": "code",
      "source": [
        "plt.plot(sequence_sn, color='black',label='sequence_sn')\n",
        "plt.plot(serie_an, color='red',label='serie_an')\n",
        "plt.legend()"
      ],
      "metadata": {
        "id": "tdyJ355mGjKG",
        "outputId": "a3a43bb5-589c-4908-95db-88a480db9e96",
        "colab": {
          "base_uri": "https://localhost:8080/",
          "height": 448
        }
      },
      "execution_count": 26,
      "outputs": [
        {
          "output_type": "execute_result",
          "data": {
            "text/plain": [
              "<matplotlib.legend.Legend at 0x7e44902f9d10>"
            ]
          },
          "metadata": {},
          "execution_count": 26
        },
        {
          "output_type": "display_data",
          "data": {
            "text/plain": [
              "<Figure size 640x480 with 1 Axes>"
            ],
            "image/png": "[encoded data removed]"
          },
          "metadata": {}
        }
      ]
    },
    {
      "cell_type": "markdown",
      "metadata": {
        "id": "dh2ntBeoNQlN"
      },
      "source": [
        "# Power Sums Power Sums - [Wolfram MathWorld](https://mathworld.wolfram.com/PowerSum.html) - [wikipedia](https://en.wikipedia.org/wiki/Sums_of_powers) - [reserachgate](https://www.researchgate.net/publication/331933608_The_Powers_Sums_Bernoulli_Numbers_Bernoulli_Polynomials_Rethinked)\n",
        "\n"
      ]
    },
    {
      "cell_type": "markdown",
      "source": [
        "## Your own example of power sum with $p =$ last digit in the list $+ 1$, i.e., the sum $1^p+2^p+\\cdots + n^p$  series up to  $n=10^6$  and verify with the formula."
      ],
      "metadata": {
        "id": "kSYU0kwMCBXB"
      }
    },
    {
      "cell_type": "code",
      "metadata": {
        "id": "2PyxzzOZVIdl"
      },
      "source": [
        "sequence_sn = []\n",
        "serie_an = []\n",
        "n = 20\n",
        "p = 10 #Code p = 9 + 1 (last digit=9)\n",
        "S_n = 0\n",
        "for k in range(1,n+1):\n",
        "  a_n = k ** (p)\n",
        "  S_n = S_n + a_n\n",
        "  sequence_sn.append(S_n)\n",
        "  serie_an.append(a_n)"
      ],
      "execution_count": 29,
      "outputs": []
    },
    {
      "cell_type": "code",
      "source": [
        "print(f\"Codigo: {S_n}\")\n",
        "print(f\"Formula: {(1/66)*(6*n**11+33*n**10+55*n**9-66*n**7+66*n**5-33*n**3+5*n)}\")"
      ],
      "metadata": {
        "id": "VO_jmCYvGxYU",
        "outputId": "0f77a97f-6ecb-4e2e-c86e-b6de74abe455",
        "colab": {
          "base_uri": "https://localhost:8080/"
        }
      },
      "execution_count": 30,
      "outputs": [
        {
          "output_type": "stream",
          "name": "stdout",
          "text": [
            "Codigo: 24163571680850\n",
            "Formula: 24163571680850.0\n"
          ]
        }
      ]
    },
    {
      "cell_type": "markdown",
      "source": [
        "## Plot the firtst 20 terms and the partial sums"
      ],
      "metadata": {
        "id": "bLfkQAVNGx1c"
      }
    },
    {
      "cell_type": "code",
      "source": [
        "plt.plot(sequence_sn, color='black',label='sequence_sn')\n",
        "plt.plot(serie_an, color='red',label='serie_an')\n",
        "plt.legend()"
      ],
      "metadata": {
        "id": "j7EtiVSYG2E1",
        "colab": {
          "base_uri": "https://localhost:8080/",
          "height": 463
        },
        "outputId": "ed67475c-ac01-441b-c2db-0c7f551c652b"
      },
      "execution_count": 31,
      "outputs": [
        {
          "output_type": "execute_result",
          "data": {
            "text/plain": [
              "<matplotlib.legend.Legend at 0x7e4490170510>"
            ]
          },
          "metadata": {},
          "execution_count": 31
        },
        {
          "output_type": "display_data",
          "data": {
            "text/plain": [
              "<Figure size 640x480 with 1 Axes>"
            ],
            "image/png": "[encoded data removed]"
          },
          "metadata": {}
        }
      ]
    },
    {
      "cell_type": "code",
      "source": [
        "sequence_sn = []\n",
        "serie_an = []\n",
        "n = 20\n",
        "p = 1 #otro numero\n",
        "S_n = 0\n",
        "for k in range(1,n+1):\n",
        "  a_n = k ** (p)\n",
        "  S_n = S_n + a_n\n",
        "  sequence_sn.append(S_n)\n",
        "  serie_an.append(a_n)\n",
        "plt.plot(sequence_sn, color='black',label='sequence_sn')\n",
        "plt.plot(serie_an, color='red',label='serie_an')\n",
        "plt.legend()"
      ],
      "metadata": {
        "id": "UBxFkepZPZtn"
      },
      "execution_count": null,
      "outputs": []
    },
    {
      "cell_type": "code",
      "source": [
        "print(f\"Código: {S_n}\")\n",
        "print(f\"Ecuación: {(1/2)*n*(n+1)}\")"
      ],
      "metadata": {
        "id": "A0PZa8OfFQNd"
      },
      "execution_count": null,
      "outputs": []
    }
  ]
}